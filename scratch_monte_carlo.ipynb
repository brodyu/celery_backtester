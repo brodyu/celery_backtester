{
 "cells": [
  {
   "cell_type": "code",
   "execution_count": 1,
   "metadata": {},
   "outputs": [
    {
     "data": {
      "text/plain": [
       "{'itm_probability': 0.0,\n",
       " 'otm_probability': 1.0,\n",
       " 'confidence_interval': (0.0, 0.0),\n",
       " 'bs_delta': -0.12645506027766795,\n",
       " 'prices': array([191.73125452, 197.392318  , 205.64838765, ..., 199.08379851,\n",
       "        197.51773102, 198.24882252]),\n",
       " 'paths': array([[199.        , 198.0661879 , 199.49804523, ..., 192.72197695,\n",
       "         193.12551526, 191.73125452],\n",
       "        [199.        , 199.15663241, 199.80517158, ..., 197.75810622,\n",
       "         196.5650032 , 197.392318  ],\n",
       "        [199.        , 199.97719328, 197.86519318, ..., 205.54566417,\n",
       "         206.29403023, 205.64838765],\n",
       "        ...,\n",
       "        [199.        , 199.18658499, 199.23301551, ..., 199.84689145,\n",
       "         200.83680719, 199.08379851],\n",
       "        [199.        , 198.77654385, 198.66451941, ..., 198.54369795,\n",
       "         198.03166659, 197.51773102],\n",
       "        [199.        , 199.52491079, 199.59915264, ..., 197.92416879,\n",
       "         196.6697488 , 198.24882252]]),\n",
       " 'times': array([0.        , 0.00410959, 0.00821918, 0.01232877, 0.01643836,\n",
       "        0.02054795, 0.02465753, 0.02876712, 0.03287671, 0.0369863 ,\n",
       "        0.04109589, 0.04520548, 0.04931507, 0.05342466, 0.05753425])}"
      ]
     },
     "execution_count": 1,
     "metadata": {},
     "output_type": "execute_result"
    }
   ],
   "source": [
    "from thales.options_analyzer.monte_carlo.engine import MonteCarloEngine\n",
    "\n",
    "# Parameters\n",
    "S0 = 199  # Current CRM price\n",
    "K = 185   # Strike price\n",
    "r = 0.0423  # Risk-free rate\n",
    "sigma = 0.2833  # Implied volatility\n",
    "date = \"2025-01-24\"  # Expiration date\n",
    "num_simulations = 100000\n",
    "confidence_level = 0.95\n",
    "\n",
    "monte_carlo = MonteCarloEngine()\n",
    "results = monte_carlo.run(S0, K, r, sigma, date)\n",
    "results"
   ]
  },
  {
   "cell_type": "code",
   "execution_count": null,
   "metadata": {},
   "outputs": [],
   "source": []
  }
 ],
 "metadata": {
  "kernelspec": {
   "display_name": "venv",
   "language": "python",
   "name": "python3"
  },
  "language_info": {
   "codemirror_mode": {
    "name": "ipython",
    "version": 3
   },
   "file_extension": ".py",
   "mimetype": "text/x-python",
   "name": "python",
   "nbconvert_exporter": "python",
   "pygments_lexer": "ipython3",
   "version": "3.11.4"
  }
 },
 "nbformat": 4,
 "nbformat_minor": 2
}
